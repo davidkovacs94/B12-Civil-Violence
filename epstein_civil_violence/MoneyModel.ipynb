{
 "cells": [
  {
   "cell_type": "code",
   "execution_count": 17,
   "metadata": {},
   "outputs": [
    {
     "name": "stdout",
     "output_type": "stream",
     "text": [
      "Requirement already satisfied: mesa in /Users/nadir/Library/Python/3.7/lib/python/site-packages (0.8.7)\n",
      "Requirement already satisfied: numpy in /Users/nadir/Library/Python/3.7/lib/python/site-packages (from mesa) (1.19.1)\n",
      "Requirement already satisfied: tqdm in /Users/nadir/Library/Python/3.7/lib/python/site-packages (from mesa) (4.48.2)\n",
      "Requirement already satisfied: cookiecutter in /Users/nadir/Library/Python/3.7/lib/python/site-packages (from mesa) (1.7.2)\n",
      "Requirement already satisfied: tornado in /Users/nadir/Library/Python/3.7/lib/python/site-packages (from mesa) (6.0.4)\n",
      "Requirement already satisfied: pandas in /Users/nadir/Library/Python/3.7/lib/python/site-packages (from mesa) (1.1.1)\n",
      "Requirement already satisfied: click in /Users/nadir/Library/Python/3.7/lib/python/site-packages (from mesa) (7.1.2)\n",
      "Requirement already satisfied: networkx in /Users/nadir/Library/Python/3.7/lib/python/site-packages (from mesa) (2.5)\n",
      "Requirement already satisfied: binaryornot>=0.4.4 in /Users/nadir/Library/Python/3.7/lib/python/site-packages (from cookiecutter->mesa) (0.4.4)\n",
      "Requirement already satisfied: poyo>=0.5.0 in /Users/nadir/Library/Python/3.7/lib/python/site-packages (from cookiecutter->mesa) (0.5.0)\n",
      "Requirement already satisfied: Jinja2<3.0.0 in /Users/nadir/Library/Python/3.7/lib/python/site-packages (from cookiecutter->mesa) (2.11.2)\n",
      "Requirement already satisfied: requests>=2.23.0 in /Users/nadir/Library/Python/3.7/lib/python/site-packages (from cookiecutter->mesa) (2.24.0)\n",
      "Requirement already satisfied: jinja2-time>=0.2.0 in /Users/nadir/Library/Python/3.7/lib/python/site-packages (from cookiecutter->mesa) (0.2.0)\n",
      "Requirement already satisfied: python-slugify>=4.0.0 in /Users/nadir/Library/Python/3.7/lib/python/site-packages (from cookiecutter->mesa) (4.0.1)\n",
      "Requirement already satisfied: six>=1.10 in /Applications/Xcode.app/Contents/Developer/Library/Frameworks/Python3.framework/Versions/3.7/lib/python3.7/site-packages (from cookiecutter->mesa) (1.12.0)\n",
      "Requirement already satisfied: MarkupSafe<2.0.0 in /Users/nadir/Library/Python/3.7/lib/python/site-packages (from cookiecutter->mesa) (1.1.1)\n",
      "Requirement already satisfied: pytz>=2017.2 in /Users/nadir/Library/Python/3.7/lib/python/site-packages (from pandas->mesa) (2020.1)\n",
      "Requirement already satisfied: python-dateutil>=2.7.3 in /Users/nadir/Library/Python/3.7/lib/python/site-packages (from pandas->mesa) (2.8.1)\n",
      "Requirement already satisfied: decorator>=4.3.0 in /Users/nadir/Library/Python/3.7/lib/python/site-packages (from networkx->mesa) (4.4.2)\n",
      "Requirement already satisfied: chardet>=3.0.2 in /Users/nadir/Library/Python/3.7/lib/python/site-packages (from binaryornot>=0.4.4->cookiecutter->mesa) (3.0.4)\n",
      "Requirement already satisfied: urllib3!=1.25.0,!=1.25.1,<1.26,>=1.21.1 in /Users/nadir/Library/Python/3.7/lib/python/site-packages (from requests>=2.23.0->cookiecutter->mesa) (1.25.10)\n",
      "Requirement already satisfied: idna<3,>=2.5 in /Users/nadir/Library/Python/3.7/lib/python/site-packages (from requests>=2.23.0->cookiecutter->mesa) (2.10)\n",
      "Requirement already satisfied: certifi>=2017.4.17 in /Users/nadir/Library/Python/3.7/lib/python/site-packages (from requests>=2.23.0->cookiecutter->mesa) (2020.6.20)\n",
      "Requirement already satisfied: arrow in /Users/nadir/Library/Python/3.7/lib/python/site-packages (from jinja2-time>=0.2.0->cookiecutter->mesa) (0.16.0)\n",
      "Requirement already satisfied: text-unidecode>=1.3 in /Users/nadir/Library/Python/3.7/lib/python/site-packages (from python-slugify>=4.0.0->cookiecutter->mesa) (1.3)\n",
      "\u001b[33mYou are using pip version 19.0.3, however version 20.2.2 is available.\n",
      "You should consider upgrading via the 'pip install --upgrade pip' command.\u001b[0m\n"
     ]
    }
   ],
   "source": [
    "!pip3 install mesa --user"
   ]
  },
  {
   "cell_type": "code",
   "execution_count": 18,
   "metadata": {},
   "outputs": [
    {
     "name": "stdout",
     "output_type": "stream",
     "text": [
      "Requirement already satisfied: jupyter in /Users/nadir/Library/Python/3.7/lib/python/site-packages (from -r https://raw.githubusercontent.com/projectmesa/mesa/master/examples/boltzmann_wealth_model/requirements.txt (line 1)) (1.0.0)\n",
      "Requirement already satisfied: matplotlib in /Users/nadir/Library/Python/3.7/lib/python/site-packages (from -r https://raw.githubusercontent.com/projectmesa/mesa/master/examples/boltzmann_wealth_model/requirements.txt (line 2)) (3.3.1)\n",
      "Requirement already satisfied: mesa in /Users/nadir/Library/Python/3.7/lib/python/site-packages (from -r https://raw.githubusercontent.com/projectmesa/mesa/master/examples/boltzmann_wealth_model/requirements.txt (line 3)) (0.8.7)\n",
      "Requirement already satisfied: numpy in /Users/nadir/Library/Python/3.7/lib/python/site-packages (from -r https://raw.githubusercontent.com/projectmesa/mesa/master/examples/boltzmann_wealth_model/requirements.txt (line 4)) (1.19.1)\n",
      "Requirement already satisfied: notebook in /Users/nadir/Library/Python/3.7/lib/python/site-packages (from jupyter->-r https://raw.githubusercontent.com/projectmesa/mesa/master/examples/boltzmann_wealth_model/requirements.txt (line 1)) (6.1.3)\n",
      "Requirement already satisfied: nbconvert in /Users/nadir/Library/Python/3.7/lib/python/site-packages (from jupyter->-r https://raw.githubusercontent.com/projectmesa/mesa/master/examples/boltzmann_wealth_model/requirements.txt (line 1)) (5.6.1)\n",
      "Requirement already satisfied: ipykernel in /Users/nadir/Library/Python/3.7/lib/python/site-packages (from jupyter->-r https://raw.githubusercontent.com/projectmesa/mesa/master/examples/boltzmann_wealth_model/requirements.txt (line 1)) (5.3.4)\n",
      "Requirement already satisfied: ipywidgets in /Users/nadir/Library/Python/3.7/lib/python/site-packages (from jupyter->-r https://raw.githubusercontent.com/projectmesa/mesa/master/examples/boltzmann_wealth_model/requirements.txt (line 1)) (7.5.1)\n",
      "Requirement already satisfied: jupyter-console in /Users/nadir/Library/Python/3.7/lib/python/site-packages (from jupyter->-r https://raw.githubusercontent.com/projectmesa/mesa/master/examples/boltzmann_wealth_model/requirements.txt (line 1)) (6.2.0)\n",
      "Requirement already satisfied: qtconsole in /Users/nadir/Library/Python/3.7/lib/python/site-packages (from jupyter->-r https://raw.githubusercontent.com/projectmesa/mesa/master/examples/boltzmann_wealth_model/requirements.txt (line 1)) (4.7.7)\n",
      "Requirement already satisfied: pyparsing!=2.0.4,!=2.1.2,!=2.1.6,>=2.0.3 in /Users/nadir/Library/Python/3.7/lib/python/site-packages (from matplotlib->-r https://raw.githubusercontent.com/projectmesa/mesa/master/examples/boltzmann_wealth_model/requirements.txt (line 2)) (2.4.7)\n",
      "Requirement already satisfied: python-dateutil>=2.1 in /Users/nadir/Library/Python/3.7/lib/python/site-packages (from matplotlib->-r https://raw.githubusercontent.com/projectmesa/mesa/master/examples/boltzmann_wealth_model/requirements.txt (line 2)) (2.8.1)\n",
      "Requirement already satisfied: certifi>=2020.06.20 in /Users/nadir/Library/Python/3.7/lib/python/site-packages (from matplotlib->-r https://raw.githubusercontent.com/projectmesa/mesa/master/examples/boltzmann_wealth_model/requirements.txt (line 2)) (2020.6.20)\n",
      "Requirement already satisfied: kiwisolver>=1.0.1 in /Users/nadir/Library/Python/3.7/lib/python/site-packages (from matplotlib->-r https://raw.githubusercontent.com/projectmesa/mesa/master/examples/boltzmann_wealth_model/requirements.txt (line 2)) (1.2.0)\n",
      "Requirement already satisfied: cycler>=0.10 in /Users/nadir/Library/Python/3.7/lib/python/site-packages (from matplotlib->-r https://raw.githubusercontent.com/projectmesa/mesa/master/examples/boltzmann_wealth_model/requirements.txt (line 2)) (0.10.0)\n",
      "Requirement already satisfied: pillow>=6.2.0 in /Users/nadir/Library/Python/3.7/lib/python/site-packages (from matplotlib->-r https://raw.githubusercontent.com/projectmesa/mesa/master/examples/boltzmann_wealth_model/requirements.txt (line 2)) (7.2.0)\n",
      "Requirement already satisfied: networkx in /Users/nadir/Library/Python/3.7/lib/python/site-packages (from mesa->-r https://raw.githubusercontent.com/projectmesa/mesa/master/examples/boltzmann_wealth_model/requirements.txt (line 3)) (2.5)\n",
      "Requirement already satisfied: cookiecutter in /Users/nadir/Library/Python/3.7/lib/python/site-packages (from mesa->-r https://raw.githubusercontent.com/projectmesa/mesa/master/examples/boltzmann_wealth_model/requirements.txt (line 3)) (1.7.2)\n",
      "Requirement already satisfied: pandas in /Users/nadir/Library/Python/3.7/lib/python/site-packages (from mesa->-r https://raw.githubusercontent.com/projectmesa/mesa/master/examples/boltzmann_wealth_model/requirements.txt (line 3)) (1.1.1)\n",
      "Requirement already satisfied: click in /Users/nadir/Library/Python/3.7/lib/python/site-packages (from mesa->-r https://raw.githubusercontent.com/projectmesa/mesa/master/examples/boltzmann_wealth_model/requirements.txt (line 3)) (7.1.2)\n",
      "Requirement already satisfied: tqdm in /Users/nadir/Library/Python/3.7/lib/python/site-packages (from mesa->-r https://raw.githubusercontent.com/projectmesa/mesa/master/examples/boltzmann_wealth_model/requirements.txt (line 3)) (4.48.2)\n",
      "Requirement already satisfied: tornado in /Users/nadir/Library/Python/3.7/lib/python/site-packages (from mesa->-r https://raw.githubusercontent.com/projectmesa/mesa/master/examples/boltzmann_wealth_model/requirements.txt (line 3)) (6.0.4)\n",
      "Requirement already satisfied: ipython-genutils in /Users/nadir/Library/Python/3.7/lib/python/site-packages (from notebook->jupyter->-r https://raw.githubusercontent.com/projectmesa/mesa/master/examples/boltzmann_wealth_model/requirements.txt (line 1)) (0.2.0)\n",
      "Requirement already satisfied: traitlets>=4.2.1 in /Users/nadir/Library/Python/3.7/lib/python/site-packages (from notebook->jupyter->-r https://raw.githubusercontent.com/projectmesa/mesa/master/examples/boltzmann_wealth_model/requirements.txt (line 1)) (5.0.3)\n",
      "Requirement already satisfied: Send2Trash in /Users/nadir/Library/Python/3.7/lib/python/site-packages (from notebook->jupyter->-r https://raw.githubusercontent.com/projectmesa/mesa/master/examples/boltzmann_wealth_model/requirements.txt (line 1)) (1.5.0)\n",
      "Requirement already satisfied: prometheus-client in /Users/nadir/Library/Python/3.7/lib/python/site-packages (from notebook->jupyter->-r https://raw.githubusercontent.com/projectmesa/mesa/master/examples/boltzmann_wealth_model/requirements.txt (line 1)) (0.8.0)\n",
      "Requirement already satisfied: jupyter-client>=5.3.4 in /Users/nadir/Library/Python/3.7/lib/python/site-packages (from notebook->jupyter->-r https://raw.githubusercontent.com/projectmesa/mesa/master/examples/boltzmann_wealth_model/requirements.txt (line 1)) (6.1.7)\n",
      "Requirement already satisfied: argon2-cffi in /Users/nadir/Library/Python/3.7/lib/python/site-packages (from notebook->jupyter->-r https://raw.githubusercontent.com/projectmesa/mesa/master/examples/boltzmann_wealth_model/requirements.txt (line 1)) (20.1.0)\n",
      "Requirement already satisfied: jinja2 in /Users/nadir/Library/Python/3.7/lib/python/site-packages (from notebook->jupyter->-r https://raw.githubusercontent.com/projectmesa/mesa/master/examples/boltzmann_wealth_model/requirements.txt (line 1)) (2.11.2)\n",
      "Requirement already satisfied: terminado>=0.8.3 in /Users/nadir/Library/Python/3.7/lib/python/site-packages (from notebook->jupyter->-r https://raw.githubusercontent.com/projectmesa/mesa/master/examples/boltzmann_wealth_model/requirements.txt (line 1)) (0.8.3)\n",
      "Requirement already satisfied: nbformat in /Users/nadir/Library/Python/3.7/lib/python/site-packages (from notebook->jupyter->-r https://raw.githubusercontent.com/projectmesa/mesa/master/examples/boltzmann_wealth_model/requirements.txt (line 1)) (5.0.7)\n",
      "Requirement already satisfied: pyzmq>=17 in /Users/nadir/Library/Python/3.7/lib/python/site-packages (from notebook->jupyter->-r https://raw.githubusercontent.com/projectmesa/mesa/master/examples/boltzmann_wealth_model/requirements.txt (line 1)) (19.0.2)\n",
      "Requirement already satisfied: jupyter-core>=4.6.1 in /Users/nadir/Library/Python/3.7/lib/python/site-packages (from notebook->jupyter->-r https://raw.githubusercontent.com/projectmesa/mesa/master/examples/boltzmann_wealth_model/requirements.txt (line 1)) (4.6.3)\n",
      "Requirement already satisfied: bleach in /Users/nadir/Library/Python/3.7/lib/python/site-packages (from nbconvert->jupyter->-r https://raw.githubusercontent.com/projectmesa/mesa/master/examples/boltzmann_wealth_model/requirements.txt (line 1)) (3.1.5)\n",
      "Requirement already satisfied: entrypoints>=0.2.2 in /Users/nadir/Library/Python/3.7/lib/python/site-packages (from nbconvert->jupyter->-r https://raw.githubusercontent.com/projectmesa/mesa/master/examples/boltzmann_wealth_model/requirements.txt (line 1)) (0.3)\n",
      "Requirement already satisfied: pandocfilters>=1.4.1 in /Users/nadir/Library/Python/3.7/lib/python/site-packages (from nbconvert->jupyter->-r https://raw.githubusercontent.com/projectmesa/mesa/master/examples/boltzmann_wealth_model/requirements.txt (line 1)) (1.4.2)\n",
      "Requirement already satisfied: defusedxml in /Users/nadir/Library/Python/3.7/lib/python/site-packages (from nbconvert->jupyter->-r https://raw.githubusercontent.com/projectmesa/mesa/master/examples/boltzmann_wealth_model/requirements.txt (line 1)) (0.6.0)\n",
      "Requirement already satisfied: testpath in /Users/nadir/Library/Python/3.7/lib/python/site-packages (from nbconvert->jupyter->-r https://raw.githubusercontent.com/projectmesa/mesa/master/examples/boltzmann_wealth_model/requirements.txt (line 1)) (0.4.4)\n",
      "Requirement already satisfied: pygments in /Users/nadir/Library/Python/3.7/lib/python/site-packages (from nbconvert->jupyter->-r https://raw.githubusercontent.com/projectmesa/mesa/master/examples/boltzmann_wealth_model/requirements.txt (line 1)) (2.6.1)\n",
      "Requirement already satisfied: mistune<2,>=0.8.1 in /Users/nadir/Library/Python/3.7/lib/python/site-packages (from nbconvert->jupyter->-r https://raw.githubusercontent.com/projectmesa/mesa/master/examples/boltzmann_wealth_model/requirements.txt (line 1)) (0.8.4)\n",
      "Requirement already satisfied: appnope; platform_system == \"Darwin\" in /Users/nadir/Library/Python/3.7/lib/python/site-packages (from ipykernel->jupyter->-r https://raw.githubusercontent.com/projectmesa/mesa/master/examples/boltzmann_wealth_model/requirements.txt (line 1)) (0.1.0)\n",
      "Requirement already satisfied: ipython>=5.0.0 in /Users/nadir/Library/Python/3.7/lib/python/site-packages (from ipykernel->jupyter->-r https://raw.githubusercontent.com/projectmesa/mesa/master/examples/boltzmann_wealth_model/requirements.txt (line 1)) (7.18.1)\n"
     ]
    },
    {
     "name": "stdout",
     "output_type": "stream",
     "text": [
      "Requirement already satisfied: widgetsnbextension~=3.5.0 in /Users/nadir/Library/Python/3.7/lib/python/site-packages (from ipywidgets->jupyter->-r https://raw.githubusercontent.com/projectmesa/mesa/master/examples/boltzmann_wealth_model/requirements.txt (line 1)) (3.5.1)\n",
      "Requirement already satisfied: prompt-toolkit!=3.0.0,!=3.0.1,<3.1.0,>=2.0.0 in /Users/nadir/Library/Python/3.7/lib/python/site-packages (from jupyter-console->jupyter->-r https://raw.githubusercontent.com/projectmesa/mesa/master/examples/boltzmann_wealth_model/requirements.txt (line 1)) (3.0.7)\n",
      "Requirement already satisfied: qtpy in /Users/nadir/Library/Python/3.7/lib/python/site-packages (from qtconsole->jupyter->-r https://raw.githubusercontent.com/projectmesa/mesa/master/examples/boltzmann_wealth_model/requirements.txt (line 1)) (1.9.0)\n",
      "Requirement already satisfied: six>=1.5 in /Applications/Xcode.app/Contents/Developer/Library/Frameworks/Python3.framework/Versions/3.7/lib/python3.7/site-packages (from python-dateutil>=2.1->matplotlib->-r https://raw.githubusercontent.com/projectmesa/mesa/master/examples/boltzmann_wealth_model/requirements.txt (line 2)) (1.12.0)\n",
      "Requirement already satisfied: decorator>=4.3.0 in /Users/nadir/Library/Python/3.7/lib/python/site-packages (from networkx->mesa->-r https://raw.githubusercontent.com/projectmesa/mesa/master/examples/boltzmann_wealth_model/requirements.txt (line 3)) (4.4.2)\n",
      "Requirement already satisfied: jinja2-time>=0.2.0 in /Users/nadir/Library/Python/3.7/lib/python/site-packages (from cookiecutter->mesa->-r https://raw.githubusercontent.com/projectmesa/mesa/master/examples/boltzmann_wealth_model/requirements.txt (line 3)) (0.2.0)\n",
      "Requirement already satisfied: requests>=2.23.0 in /Users/nadir/Library/Python/3.7/lib/python/site-packages (from cookiecutter->mesa->-r https://raw.githubusercontent.com/projectmesa/mesa/master/examples/boltzmann_wealth_model/requirements.txt (line 3)) (2.24.0)\n",
      "Requirement already satisfied: poyo>=0.5.0 in /Users/nadir/Library/Python/3.7/lib/python/site-packages (from cookiecutter->mesa->-r https://raw.githubusercontent.com/projectmesa/mesa/master/examples/boltzmann_wealth_model/requirements.txt (line 3)) (0.5.0)\n",
      "Requirement already satisfied: python-slugify>=4.0.0 in /Users/nadir/Library/Python/3.7/lib/python/site-packages (from cookiecutter->mesa->-r https://raw.githubusercontent.com/projectmesa/mesa/master/examples/boltzmann_wealth_model/requirements.txt (line 3)) (4.0.1)\n",
      "Requirement already satisfied: MarkupSafe<2.0.0 in /Users/nadir/Library/Python/3.7/lib/python/site-packages (from cookiecutter->mesa->-r https://raw.githubusercontent.com/projectmesa/mesa/master/examples/boltzmann_wealth_model/requirements.txt (line 3)) (1.1.1)\n",
      "Requirement already satisfied: binaryornot>=0.4.4 in /Users/nadir/Library/Python/3.7/lib/python/site-packages (from cookiecutter->mesa->-r https://raw.githubusercontent.com/projectmesa/mesa/master/examples/boltzmann_wealth_model/requirements.txt (line 3)) (0.4.4)\n",
      "Requirement already satisfied: pytz>=2017.2 in /Users/nadir/Library/Python/3.7/lib/python/site-packages (from pandas->mesa->-r https://raw.githubusercontent.com/projectmesa/mesa/master/examples/boltzmann_wealth_model/requirements.txt (line 3)) (2020.1)\n",
      "Requirement already satisfied: cffi>=1.0.0 in /Users/nadir/Library/Python/3.7/lib/python/site-packages (from argon2-cffi->notebook->jupyter->-r https://raw.githubusercontent.com/projectmesa/mesa/master/examples/boltzmann_wealth_model/requirements.txt (line 1)) (1.14.2)\n",
      "Requirement already satisfied: ptyprocess; os_name != \"nt\" in /Users/nadir/Library/Python/3.7/lib/python/site-packages (from terminado>=0.8.3->notebook->jupyter->-r https://raw.githubusercontent.com/projectmesa/mesa/master/examples/boltzmann_wealth_model/requirements.txt (line 1)) (0.6.0)\n",
      "Requirement already satisfied: jsonschema!=2.5.0,>=2.4 in /Users/nadir/Library/Python/3.7/lib/python/site-packages (from nbformat->notebook->jupyter->-r https://raw.githubusercontent.com/projectmesa/mesa/master/examples/boltzmann_wealth_model/requirements.txt (line 1)) (3.2.0)\n",
      "Requirement already satisfied: packaging in /Users/nadir/Library/Python/3.7/lib/python/site-packages (from bleach->nbconvert->jupyter->-r https://raw.githubusercontent.com/projectmesa/mesa/master/examples/boltzmann_wealth_model/requirements.txt (line 1)) (20.4)\n",
      "Requirement already satisfied: webencodings in /Users/nadir/Library/Python/3.7/lib/python/site-packages (from bleach->nbconvert->jupyter->-r https://raw.githubusercontent.com/projectmesa/mesa/master/examples/boltzmann_wealth_model/requirements.txt (line 1)) (0.5.1)\n",
      "Requirement already satisfied: pickleshare in /Users/nadir/Library/Python/3.7/lib/python/site-packages (from ipython>=5.0.0->ipykernel->jupyter->-r https://raw.githubusercontent.com/projectmesa/mesa/master/examples/boltzmann_wealth_model/requirements.txt (line 1)) (0.7.5)\n",
      "Requirement already satisfied: setuptools>=18.5 in /Applications/Xcode.app/Contents/Developer/Library/Frameworks/Python3.framework/Versions/3.7/lib/python3.7/site-packages (from ipython>=5.0.0->ipykernel->jupyter->-r https://raw.githubusercontent.com/projectmesa/mesa/master/examples/boltzmann_wealth_model/requirements.txt (line 1)) (40.8.0)\n",
      "Requirement already satisfied: backcall in /Users/nadir/Library/Python/3.7/lib/python/site-packages (from ipython>=5.0.0->ipykernel->jupyter->-r https://raw.githubusercontent.com/projectmesa/mesa/master/examples/boltzmann_wealth_model/requirements.txt (line 1)) (0.2.0)\n",
      "Requirement already satisfied: pexpect>4.3; sys_platform != \"win32\" in /Users/nadir/Library/Python/3.7/lib/python/site-packages (from ipython>=5.0.0->ipykernel->jupyter->-r https://raw.githubusercontent.com/projectmesa/mesa/master/examples/boltzmann_wealth_model/requirements.txt (line 1)) (4.8.0)\n",
      "Requirement already satisfied: jedi>=0.10 in /Users/nadir/Library/Python/3.7/lib/python/site-packages (from ipython>=5.0.0->ipykernel->jupyter->-r https://raw.githubusercontent.com/projectmesa/mesa/master/examples/boltzmann_wealth_model/requirements.txt (line 1)) (0.17.2)\n",
      "Requirement already satisfied: wcwidth in /Users/nadir/Library/Python/3.7/lib/python/site-packages (from prompt-toolkit!=3.0.0,!=3.0.1,<3.1.0,>=2.0.0->jupyter-console->jupyter->-r https://raw.githubusercontent.com/projectmesa/mesa/master/examples/boltzmann_wealth_model/requirements.txt (line 1)) (0.2.5)\n",
      "Requirement already satisfied: arrow in /Users/nadir/Library/Python/3.7/lib/python/site-packages (from jinja2-time>=0.2.0->cookiecutter->mesa->-r https://raw.githubusercontent.com/projectmesa/mesa/master/examples/boltzmann_wealth_model/requirements.txt (line 3)) (0.16.0)\n",
      "Requirement already satisfied: idna<3,>=2.5 in /Users/nadir/Library/Python/3.7/lib/python/site-packages (from requests>=2.23.0->cookiecutter->mesa->-r https://raw.githubusercontent.com/projectmesa/mesa/master/examples/boltzmann_wealth_model/requirements.txt (line 3)) (2.10)\n",
      "Requirement already satisfied: chardet<4,>=3.0.2 in /Users/nadir/Library/Python/3.7/lib/python/site-packages (from requests>=2.23.0->cookiecutter->mesa->-r https://raw.githubusercontent.com/projectmesa/mesa/master/examples/boltzmann_wealth_model/requirements.txt (line 3)) (3.0.4)\n",
      "Requirement already satisfied: urllib3!=1.25.0,!=1.25.1,<1.26,>=1.21.1 in /Users/nadir/Library/Python/3.7/lib/python/site-packages (from requests>=2.23.0->cookiecutter->mesa->-r https://raw.githubusercontent.com/projectmesa/mesa/master/examples/boltzmann_wealth_model/requirements.txt (line 3)) (1.25.10)\n",
      "Requirement already satisfied: text-unidecode>=1.3 in /Users/nadir/Library/Python/3.7/lib/python/site-packages (from python-slugify>=4.0.0->cookiecutter->mesa->-r https://raw.githubusercontent.com/projectmesa/mesa/master/examples/boltzmann_wealth_model/requirements.txt (line 3)) (1.3)\n",
      "Requirement already satisfied: pycparser in /Users/nadir/Library/Python/3.7/lib/python/site-packages (from cffi>=1.0.0->argon2-cffi->notebook->jupyter->-r https://raw.githubusercontent.com/projectmesa/mesa/master/examples/boltzmann_wealth_model/requirements.txt (line 1)) (2.20)\n",
      "Requirement already satisfied: pyrsistent>=0.14.0 in /Users/nadir/Library/Python/3.7/lib/python/site-packages (from jsonschema!=2.5.0,>=2.4->nbformat->notebook->jupyter->-r https://raw.githubusercontent.com/projectmesa/mesa/master/examples/boltzmann_wealth_model/requirements.txt (line 1)) (0.16.0)\n",
      "Requirement already satisfied: importlib-metadata; python_version < \"3.8\" in /Users/nadir/Library/Python/3.7/lib/python/site-packages (from jsonschema!=2.5.0,>=2.4->nbformat->notebook->jupyter->-r https://raw.githubusercontent.com/projectmesa/mesa/master/examples/boltzmann_wealth_model/requirements.txt (line 1)) (1.7.0)\n",
      "Requirement already satisfied: attrs>=17.4.0 in /Users/nadir/Library/Python/3.7/lib/python/site-packages (from jsonschema!=2.5.0,>=2.4->nbformat->notebook->jupyter->-r https://raw.githubusercontent.com/projectmesa/mesa/master/examples/boltzmann_wealth_model/requirements.txt (line 1)) (20.1.0)\n"
     ]
    },
    {
     "name": "stdout",
     "output_type": "stream",
     "text": [
      "Requirement already satisfied: parso<0.8.0,>=0.7.0 in /Users/nadir/Library/Python/3.7/lib/python/site-packages (from jedi>=0.10->ipython>=5.0.0->ipykernel->jupyter->-r https://raw.githubusercontent.com/projectmesa/mesa/master/examples/boltzmann_wealth_model/requirements.txt (line 1)) (0.7.1)\n",
      "Requirement already satisfied: zipp>=0.5 in /Users/nadir/Library/Python/3.7/lib/python/site-packages (from importlib-metadata; python_version < \"3.8\"->jsonschema!=2.5.0,>=2.4->nbformat->notebook->jupyter->-r https://raw.githubusercontent.com/projectmesa/mesa/master/examples/boltzmann_wealth_model/requirements.txt (line 1)) (3.1.0)\n",
      "\u001b[33mYou are using pip version 19.0.3, however version 20.2.2 is available.\n",
      "You should consider upgrading via the 'pip install --upgrade pip' command.\u001b[0m\n"
     ]
    }
   ],
   "source": [
    "!pip3 install -r https://raw.githubusercontent.com/projectmesa/mesa/master/examples/boltzmann_wealth_model/requirements.txt --user\n"
   ]
  },
  {
   "cell_type": "code",
   "execution_count": 2,
   "metadata": {},
   "outputs": [],
   "source": [
    "from mesa.space import MultiGrid\n",
    "\n",
    "from mesa import Agent, Model\n",
    "from mesa.time import RandomActivation\n",
    "\n",
    "class MoneyAgent(Agent):\n",
    "    \"\"\" An agent with fixed initial wealth.\"\"\"\n",
    "    def __init__(self, unique_id, model):\n",
    "        super().__init__(unique_id, model)\n",
    "        self.wealth = 1\n",
    "    def move(self):\n",
    "        possible_steps = self.model.grid.get_neighborhood(\n",
    "            self.pos,\n",
    "            moore=True,\n",
    "            include_center=False)\n",
    "        new_position = self.random.choice(possible_steps)\n",
    "        self.model.grid.move_agent(self, new_position)\n",
    "        print(new_position)\n",
    "    def give_money(self):\n",
    "        cellmates = self.model.grid.get_cell_list_contents([self.pos])\n",
    "        if len(cellmates) > 1:\n",
    "            other_agent = self.random.choice(cellmates)\n",
    "            other_agent.wealth += 1\n",
    "            self.wealth -= 1\n",
    "\n",
    "    def step(self):\n",
    "        print('step')\n",
    "        self.move()\n",
    "        if self.wealth > 0:\n",
    "            self.give_money()\n",
    "class MoneyModel(Model):\n",
    "    \"\"\"A model with some number of agents.\"\"\"\n",
    "    def __init__(self, N, width, height):\n",
    "        print(\"money\")\n",
    "        self.num_agents = N\n",
    "        self.grid = MultiGrid(width, height, True)\n",
    "        self.schedule = RandomActivation(self)\n",
    "\n",
    "        # Create agents\n",
    "        for i in range(self.num_agents):\n",
    "            a = MoneyAgent(i, self)\n",
    "            self.schedule.add(a)\n",
    "\n",
    "            # Add the agent to a random grid cell\n",
    "            x = self.random.randrange(self.grid.width)\n",
    "            y = self.random.randrange(self.grid.height)\n",
    "            self.grid.place_agent(a, (x, y))\n",
    "    def step(self):\n",
    "        self.schedule.step()"
   ]
  },
  {
   "cell_type": "code",
   "execution_count": 3,
   "metadata": {},
   "outputs": [
    {
     "name": "stdout",
     "output_type": "stream",
     "text": [
      "money\n",
      "step\n",
      "(40, 18)\n",
      "step\n",
      "(40, 36)\n",
      "step\n",
      "(26, 18)\n",
      "step\n",
      "(49, 10)\n",
      "step\n",
      "(45, 11)\n",
      "step\n",
      "(7, 17)\n",
      "step\n",
      "(17, 1)\n",
      "step\n",
      "(10, 5)\n",
      "step\n",
      "(36, 14)\n",
      "step\n",
      "(12, 16)\n",
      "step\n",
      "(34, 45)\n",
      "step\n",
      "(1, 46)\n",
      "step\n",
      "(8, 12)\n",
      "step\n",
      "(30, 27)\n",
      "step\n",
      "(30, 24)\n",
      "step\n",
      "(30, 31)\n",
      "step\n",
      "(39, 15)\n",
      "step\n",
      "(43, 9)\n",
      "step\n",
      "(43, 25)\n",
      "step\n",
      "(41, 49)\n",
      "step\n",
      "(48, 9)\n",
      "step\n",
      "(43, 23)\n",
      "step\n",
      "(2, 40)\n",
      "step\n",
      "(13, 45)\n",
      "step\n",
      "(49, 29)\n",
      "step\n",
      "(11, 1)\n",
      "step\n",
      "(14, 48)\n",
      "step\n",
      "(24, 22)\n",
      "step\n",
      "(23, 21)\n",
      "step\n",
      "(1, 1)\n"
     ]
    }
   ],
   "source": [
    "model = MoneyModel(30,50,50)\n",
    "model.step()"
   ]
  },
  {
   "cell_type": "code",
   "execution_count": 4,
   "metadata": {},
   "outputs": [
    {
     "name": "stdout",
     "output_type": "stream",
     "text": [
      "1\n",
      "1\n",
      "1\n",
      "1\n",
      "1\n",
      "1\n",
      "1\n",
      "1\n",
      "1\n",
      "1\n",
      "1\n",
      "1\n",
      "1\n",
      "1\n",
      "1\n",
      "1\n",
      "1\n",
      "1\n",
      "1\n",
      "1\n",
      "1\n",
      "1\n",
      "1\n",
      "1\n",
      "1\n",
      "1\n",
      "1\n",
      "1\n",
      "1\n",
      "1\n"
     ]
    },
    {
     "data": {
      "text/plain": [
       "<matplotlib.colorbar.Colorbar at 0x1100c9940>"
      ]
     },
     "execution_count": 4,
     "metadata": {},
     "output_type": "execute_result"
    },
    {
     "data": {
      "image/png": "[encoded data removed]",
      "text/plain": [
       "<Figure size 432x288 with 2 Axes>"
      ]
     },
     "metadata": {
      "needs_background": "light"
     },
     "output_type": "display_data"
    }
   ],
   "source": [
    "import numpy as np\n",
    "import matplotlib.pyplot as plt\n",
    "\n",
    "agent_counts = np.zeros((model.grid.width, model.grid.height))\n",
    "for cell in model.grid.coord_iter():\n",
    "    cell_content, x, y = cell\n",
    "    agent_count = len(cell_content)\n",
    "    if agent_count > 0 : \n",
    "        print(agent_count)\n",
    "    agent_counts[x][y] = agent_count\n",
    "plt.imshow(agent_counts, interpolation='nearest')\n",
    "plt.colorbar()\n"
   ]
  },
  {
   "cell_type": "code",
   "execution_count": 27,
   "metadata": {},
   "outputs": [
    {
     "data": {
      "image/png": "[encoded data removed]",
      "text/plain": [
       "<Figure size 432x288 with 1 Axes>"
      ]
     },
     "metadata": {
      "needs_background": "light"
     },
     "output_type": "display_data"
    }
   ],
   "source": [
    "import matplotlib.pyplot as plt\n",
    "\n",
    "# For jupyter notebook add the following line:\n",
    "%matplotlib inline\n",
    "\n",
    "agent_wealth = [a.wealth for a in empty_model.schedule.agents]\n",
    "plt.hist(agent_wealth)\n",
    "#For a script add the following line\n",
    "plt.show()"
   ]
  },
  {
   "cell_type": "code",
   "execution_count": null,
   "metadata": {},
   "outputs": [],
   "source": []
  }
 ],
 "metadata": {
  "kernelspec": {
   "display_name": "Python 3",
   "language": "python",
   "name": "python3"
  },
  "language_info": {
   "codemirror_mode": {
    "name": "ipython",
    "version": 3
   },
   "file_extension": ".py",
   "mimetype": "text/x-python",
   "name": "python",
   "nbconvert_exporter": "python",
   "pygments_lexer": "ipython3",
   "version": "3.7.3"
  }
 },
 "nbformat": 4,
 "nbformat_minor": 4
}
